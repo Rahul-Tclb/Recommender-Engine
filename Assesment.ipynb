{
 "cells": [
  {
   "cell_type": "code",
   "execution_count": 1,
   "metadata": {},
   "outputs": [
    {
     "name": "stdout",
     "output_type": "stream",
     "text": [
      "os is imported\n"
     ]
    }
   ],
   "source": [
    "# importing Operating System\n",
    "\n",
    "import os\n",
    "os.getcwd()\n",
    "print('os is imported')\n"
   ]
  },
  {
   "cell_type": "code",
   "execution_count": 2,
   "metadata": {},
   "outputs": [
    {
     "name": "stdout",
     "output_type": "stream",
     "text": [
      "Imported\n"
     ]
    }
   ],
   "source": [
    "# Importing Python - Preprocessing - Data Manipulation - Data Modelling Libraries\n",
    "\n",
    "# !pip install rake_nltk                                          # Rake_natural_language_took_kit\n",
    "\n",
    "import pandas as pd                                               # python lib for Data Preprocessing\n",
    "import numpy as np                                                # python lib for numerical Computations and else\n",
    "import time                                                       # Records time stamps\n",
    "import seaborn as sns                                             # Data Visuilization package for interpreting the data into Graphs , charts , etc\n",
    "import matplotlib.pyplot as plt                                   # Data Visuilization package for interpreting the data into Graphs , charts , etc\n",
    "from sklearn.metrics.pairwise import cosine_similarity            # similarity function that calucluate the similarity between two vectors etc\n",
    "from sklearn.feature_extraction.text import CountVectorizer       # convert text to vector form  \n",
    "from rake_nltk import Rake                                        # Discard stop words from the given data   \n",
    "%matplotlib inline                                                  \n",
    "\n",
    "import warnings                                                   # importing warnings library\n",
    "warnings.filterwarnings('ignore')                                 # compress un-necessary warnings\n",
    "print('Imported')                                                 # print for verification   "
   ]
  },
  {
   "cell_type": "code",
   "execution_count": 3,
   "metadata": {},
   "outputs": [],
   "source": [
    "df1 = pd.read_csv('./IMDB_movies.csv')                            # Loading the \"IMDB_movies.csv\" and assigned it to df1 as dataframe1\n",
    "df2 = pd.read_csv('./IMDB_ratings.csv')                           # Loading the \"IMDB_ratings.csv\" and assigned it to df2 as dataframe2\n",
    "df3 = pd.read_csv('./NETFLIX TITLES.csv')                         # Loading the \"NETFLIX TITLES.csv\" and assigned it to df3 as dataframe3"
   ]
  },
  {
   "cell_type": "code",
   "execution_count": 4,
   "metadata": {},
   "outputs": [
    {
     "name": "stdout",
     "output_type": "stream",
     "text": [
      "The Features in IMDB_movies are below \n",
      " Index(['imdb_title_id', 'title', 'original_title', 'year', 'date_published',\n",
      "       'genre', 'duration', 'country', 'language', 'director', 'writer',\n",
      "       'production_company', 'actors', 'description', 'avg_vote', 'votes',\n",
      "       'budget', 'usa_gross_income', 'worlwide_gross_income', 'metascore',\n",
      "       'reviews_from_users', 'reviews_from_critics'],\n",
      "      dtype='object')\n",
      "\n",
      "\n",
      "The Features in IMDB_ratings are below \n",
      " Index(['imdb_title_id', 'weighted_average_vote', 'total_votes', 'mean_vote',\n",
      "       'median_vote', 'votes_10', 'votes_9', 'votes_8', 'votes_7', 'votes_6',\n",
      "       'votes_5', 'votes_4', 'votes_3', 'votes_2', 'votes_1',\n",
      "       'allgenders_0age_avg_vote', 'allgenders_0age_votes',\n",
      "       'allgenders_18age_avg_vote', 'allgenders_18age_votes',\n",
      "       'allgenders_30age_avg_vote', 'allgenders_30age_votes',\n",
      "       'allgenders_45age_avg_vote', 'allgenders_45age_votes',\n",
      "       'males_allages_avg_vote', 'males_allages_votes', 'males_0age_avg_vote',\n",
      "       'males_0age_votes', 'males_18age_avg_vote', 'males_18age_votes',\n",
      "       'males_30age_avg_vote', 'males_30age_votes', 'males_45age_avg_vote',\n",
      "       'males_45age_votes', 'females_allages_avg_vote',\n",
      "       'females_allages_votes', 'females_0age_avg_vote', 'females_0age_votes',\n",
      "       'females_18age_avg_vote', 'females_18age_votes',\n",
      "       'females_30age_avg_vote', 'females_30age_votes',\n",
      "       'females_45age_avg_vote', 'females_45age_votes',\n",
      "       'top1000_voters_rating', 'top1000_voters_votes', 'us_voters_rating',\n",
      "       'us_voters_votes', 'non_us_voters_rating', 'non_us_voters_votes'],\n",
      "      dtype='object')\n",
      "\n",
      "\n",
      "The Features in NETFLIX TITLES are below \n",
      " Index(['show_id', 'type', 'title', 'director', 'cast', 'country', 'date_added',\n",
      "       'release_year', 'rating', 'duration', 'listed_in', 'description'],\n",
      "      dtype='object')\n"
     ]
    }
   ],
   "source": [
    "# Viewing the Features in the IMDB_movies , IMDB_ratings , NETFLIX TITLES   \n",
    "\n",
    "print( 'The Features in IMDB_movies are below'  , '\\n', df1.columns) , print('\\n')\n",
    "print( 'The Features in IMDB_ratings are below'  , '\\n', df2.columns) ,print('\\n')\n",
    "print( 'The Features in NETFLIX TITLES are below'  , '\\n', df3.columns)\n"
   ]
  },
  {
   "cell_type": "code",
   "execution_count": 5,
   "metadata": {},
   "outputs": [
    {
     "name": "stdout",
     "output_type": "stream",
     "text": [
      "shape of IMDB_movies is : (59164, 22)\n",
      "shape of IMDB_ratings is : (60954, 49)\n",
      "shape of NETFLIX TITLES is : (4675, 12)\n"
     ]
    }
   ],
   "source": [
    "# Shape of the dataframes\n",
    "\n",
    "print('shape of IMDB_movies is :' , df1.shape)\n",
    "print('shape of IMDB_ratings is :' , df2.shape)\n",
    "print('shape of NETFLIX TITLES is :' , df3.shape)"
   ]
  },
  {
   "cell_type": "code",
   "execution_count": 6,
   "metadata": {},
   "outputs": [
    {
     "name": "stdout",
     "output_type": "stream",
     "text": [
      "\n",
      " Missing values in df3 are \n",
      " show_id            0\n",
      "type               0\n",
      "title              0\n",
      "director        1443\n",
      "cast             439\n",
      "country          349\n",
      "date_added         6\n",
      "release_year       0\n",
      "rating             8\n",
      "duration           0\n",
      "listed_in          0\n",
      "description        0\n",
      "dtype: int64\n"
     ]
    }
   ],
   "source": [
    "print('\\n' , 'Missing values in df3 are' , '\\n' ,  df3.isnull().sum()) # viewing the null values in the dataframe"
   ]
  },
  {
   "cell_type": "code",
   "execution_count": 7,
   "metadata": {},
   "outputs": [],
   "source": [
    "# Null-Value Imputation\n",
    "\n",
    "df3.director.fillna(\"No Director Name\" ,      inplace = True)  # filling null values with no-director name\n",
    "df3.cast.fillna('No cast Given' ,             inplace = True)  # filling null values with no cast give\n",
    "df3.country.fillna(\"No country given\" ,       inplace  = True) # filling null values with no country given\n",
    "df3.dropna(subset=['date_added' , 'rating' ] ,inplace  = True) # dropping null values from the dataframe"
   ]
  },
  {
   "cell_type": "code",
   "execution_count": 8,
   "metadata": {},
   "outputs": [
    {
     "data": {
      "text/plain": [
       "show_id         0\n",
       "type            0\n",
       "title           0\n",
       "director        0\n",
       "cast            0\n",
       "country         0\n",
       "date_added      0\n",
       "release_year    0\n",
       "rating          0\n",
       "duration        0\n",
       "listed_in       0\n",
       "description     0\n",
       "dtype: int64"
      ]
     },
     "execution_count": 8,
     "metadata": {},
     "output_type": "execute_result"
    }
   ],
   "source": [
    "df3.isnull().sum()                   # Checking for Null - values after Imputation"
   ]
  },
  {
   "cell_type": "code",
   "execution_count": 9,
   "metadata": {},
   "outputs": [
    {
     "data": {
      "text/html": [
       "<div>\n",
       "<style scoped>\n",
       "    .dataframe tbody tr th:only-of-type {\n",
       "        vertical-align: middle;\n",
       "    }\n",
       "\n",
       "    .dataframe tbody tr th {\n",
       "        vertical-align: top;\n",
       "    }\n",
       "\n",
       "    .dataframe thead th {\n",
       "        text-align: right;\n",
       "    }\n",
       "</style>\n",
       "<table border=\"1\" class=\"dataframe\">\n",
       "  <thead>\n",
       "    <tr style=\"text-align: right;\">\n",
       "      <th></th>\n",
       "      <th>country</th>\n",
       "    </tr>\n",
       "  </thead>\n",
       "  <tbody>\n",
       "    <tr>\n",
       "      <td>0</td>\n",
       "      <td>United States</td>\n",
       "    </tr>\n",
       "    <tr>\n",
       "      <td>1</td>\n",
       "      <td>India, Japan</td>\n",
       "    </tr>\n",
       "    <tr>\n",
       "      <td>2</td>\n",
       "      <td>United States</td>\n",
       "    </tr>\n",
       "    <tr>\n",
       "      <td>3</td>\n",
       "      <td>India</td>\n",
       "    </tr>\n",
       "    <tr>\n",
       "      <td>4</td>\n",
       "      <td>United States, United Kingdom</td>\n",
       "    </tr>\n",
       "    <tr>\n",
       "      <td>5</td>\n",
       "      <td>United States, Canada, France</td>\n",
       "    </tr>\n",
       "    <tr>\n",
       "      <td>6</td>\n",
       "      <td>United States</td>\n",
       "    </tr>\n",
       "    <tr>\n",
       "      <td>7</td>\n",
       "      <td>Indonesia</td>\n",
       "    </tr>\n",
       "    <tr>\n",
       "      <td>9</td>\n",
       "      <td>United States</td>\n",
       "    </tr>\n",
       "    <tr>\n",
       "      <td>10</td>\n",
       "      <td>United States</td>\n",
       "    </tr>\n",
       "  </tbody>\n",
       "</table>\n",
       "</div>"
      ],
      "text/plain": [
       "                          country\n",
       "0                   United States\n",
       "1                    India, Japan\n",
       "2                   United States\n",
       "3                           India\n",
       "4   United States, United Kingdom\n",
       "5   United States, Canada, France\n",
       "6                   United States\n",
       "7                       Indonesia\n",
       "9                   United States\n",
       "10                  United States"
      ]
     },
     "execution_count": 9,
     "metadata": {},
     "output_type": "execute_result"
    }
   ],
   "source": [
    "df3[['country']].head(10)          # country feature is a factor type and viewing the top records of the feature"
   ]
  },
  {
   "cell_type": "markdown",
   "metadata": {},
   "source": [
    "# 1 . Which country creates highest content on netflix?"
   ]
  },
  {
   "cell_type": "code",
   "execution_count": 10,
   "metadata": {},
   "outputs": [
    {
     "data": {
      "text/plain": [
       "Text(0.5, 1.0, 'Highest Content in Netflix')"
      ]
     },
     "execution_count": 10,
     "metadata": {},
     "output_type": "execute_result"
    },
    {
     "data": {
      "image/png": "[encoded data removed]",
      "text/plain": [
       "<Figure size 936x504 with 1 Axes>"
      ]
     },
     "metadata": {
      "needs_background": "light"
     },
     "output_type": "display_data"
    }
   ],
   "source": [
    "# Creating a subset called countries to analze the details of highest conent creation on Netflix\n",
    "\n",
    "countries = df3.set_index('title').country.str.split(\",  \" , expand  = True ).stack().reset_index(level = 1  , drop  = True)\n",
    "\n",
    "# Replacing with country not available if country is not assigned\n",
    "\n",
    "countries = countries[countries != 'country not available']\n",
    "\n",
    "# Plotting figure for Visuilization\n",
    "\n",
    "plt.figure(figsize = (13, 7))                                                   # creating figure size for the created plot   \n",
    "sns.countplot(y = countries ,  order = countries.value_counts().index[ : 15])   # using the countplot creating a horizantal barchart for the top 15 countries\n",
    "plt.ylabel('Countries' , fontsize = 20)                                         # plotting ylabel for the chart\n",
    "plt.xlabel('Content', fontsize = 20)                                            # plotting xlabel for the chart\n",
    "plt.title('Highest Content in Netflix' , fontsize = 25)                         # plotting title for the chart\n"
   ]
  },
  {
   "cell_type": "markdown",
   "metadata": {},
   "source": [
    "### United States creates highest content on netflix"
   ]
  },
  {
   "cell_type": "markdown",
   "metadata": {},
   "source": [
    "#   2. Producer wants to release some content, which month must he do so?\n",
    "#    Month when least amount of content is added?\n"
   ]
  },
  {
   "cell_type": "code",
   "execution_count": 11,
   "metadata": {},
   "outputs": [
    {
     "data": {
      "text/html": [
       "<div>\n",
       "<style scoped>\n",
       "    .dataframe tbody tr th:only-of-type {\n",
       "        vertical-align: middle;\n",
       "    }\n",
       "\n",
       "    .dataframe tbody tr th {\n",
       "        vertical-align: top;\n",
       "    }\n",
       "\n",
       "    .dataframe thead th {\n",
       "        text-align: right;\n",
       "    }\n",
       "</style>\n",
       "<table border=\"1\" class=\"dataframe\">\n",
       "  <thead>\n",
       "    <tr style=\"text-align: right;\">\n",
       "      <th></th>\n",
       "      <th>date_added</th>\n",
       "    </tr>\n",
       "  </thead>\n",
       "  <tbody>\n",
       "    <tr>\n",
       "      <td>0</td>\n",
       "      <td>April 19, 2019</td>\n",
       "    </tr>\n",
       "  </tbody>\n",
       "</table>\n",
       "</div>"
      ],
      "text/plain": [
       "       date_added\n",
       "0  April 19, 2019"
      ]
     },
     "execution_count": 11,
     "metadata": {},
     "output_type": "execute_result"
    }
   ],
   "source": [
    "# viewing the date format of the content added in netflix\n",
    "# we need to seperate the Month and year \n",
    "\n",
    "df3[['date_added']].head(1)   "
   ]
  },
  {
   "cell_type": "code",
   "execution_count": 12,
   "metadata": {},
   "outputs": [],
   "source": [
    "# splitting the year using split applied over all rows using lambda functin\n",
    "df3['year']  = df3['date_added'].apply(lambda  x : x.split(',')[-1])  \n",
    "\n",
    "# splitting the month using split applied over all rows using lambda functin\n",
    "df3['month'] = df3['date_added'].apply(lambda  x : x.lstrip().split(' ')[0]) \n"
   ]
  },
  {
   "cell_type": "code",
   "execution_count": 13,
   "metadata": {},
   "outputs": [
    {
     "data": {
      "text/html": [
       "<div>\n",
       "<style scoped>\n",
       "    .dataframe tbody tr th:only-of-type {\n",
       "        vertical-align: middle;\n",
       "    }\n",
       "\n",
       "    .dataframe tbody tr th {\n",
       "        vertical-align: top;\n",
       "    }\n",
       "\n",
       "    .dataframe thead th {\n",
       "        text-align: right;\n",
       "    }\n",
       "</style>\n",
       "<table border=\"1\" class=\"dataframe\">\n",
       "  <thead>\n",
       "    <tr style=\"text-align: right;\">\n",
       "      <th></th>\n",
       "      <th>date_added</th>\n",
       "      <th>year</th>\n",
       "      <th>month</th>\n",
       "    </tr>\n",
       "  </thead>\n",
       "  <tbody>\n",
       "    <tr>\n",
       "      <td>0</td>\n",
       "      <td>April 19, 2019</td>\n",
       "      <td>2019</td>\n",
       "      <td>April</td>\n",
       "    </tr>\n",
       "  </tbody>\n",
       "</table>\n",
       "</div>"
      ],
      "text/plain": [
       "       date_added   year  month\n",
       "0  April 19, 2019   2019  April"
      ]
     },
     "execution_count": 13,
     "metadata": {},
     "output_type": "execute_result"
    }
   ],
   "source": [
    "# Date is modied into year and Month \n",
    "# Now it is easy for analyzing monthly\n",
    "\n",
    "df3[['date_added' , 'year' , 'month']].head(1)"
   ]
  },
  {
   "cell_type": "code",
   "execution_count": 14,
   "metadata": {},
   "outputs": [],
   "source": [
    "# created an array of month \n",
    "month_order = ['January', 'February', 'March', 'April', 'May', 'June', 'July', 'August', 'September', 'October', 'November', 'December']\n",
    "\n",
    "# Creating a new dataframe by grouping the year and month\n",
    "df4 = np.transpose(df3.groupby('year')['month'].value_counts().unstack().fillna(0)[month_order])"
   ]
  },
  {
   "cell_type": "code",
   "execution_count": 15,
   "metadata": {},
   "outputs": [
    {
     "data": {
      "text/html": [
       "<div>\n",
       "<style scoped>\n",
       "    .dataframe tbody tr th:only-of-type {\n",
       "        vertical-align: middle;\n",
       "    }\n",
       "\n",
       "    .dataframe tbody tr th {\n",
       "        vertical-align: top;\n",
       "    }\n",
       "\n",
       "    .dataframe thead th {\n",
       "        text-align: right;\n",
       "    }\n",
       "</style>\n",
       "<table border=\"1\" class=\"dataframe\">\n",
       "  <thead>\n",
       "    <tr style=\"text-align: right;\">\n",
       "      <th>year</th>\n",
       "      <th>2008</th>\n",
       "      <th>2009</th>\n",
       "      <th>2010</th>\n",
       "      <th>2011</th>\n",
       "      <th>2012</th>\n",
       "      <th>2013</th>\n",
       "      <th>2014</th>\n",
       "      <th>2015</th>\n",
       "      <th>2016</th>\n",
       "      <th>2017</th>\n",
       "      <th>2018</th>\n",
       "      <th>2019</th>\n",
       "      <th>2020</th>\n",
       "    </tr>\n",
       "    <tr>\n",
       "      <th>month</th>\n",
       "      <th></th>\n",
       "      <th></th>\n",
       "      <th></th>\n",
       "      <th></th>\n",
       "      <th></th>\n",
       "      <th></th>\n",
       "      <th></th>\n",
       "      <th></th>\n",
       "      <th></th>\n",
       "      <th></th>\n",
       "      <th></th>\n",
       "      <th></th>\n",
       "      <th></th>\n",
       "    </tr>\n",
       "  </thead>\n",
       "  <tbody>\n",
       "    <tr>\n",
       "      <td>January</td>\n",
       "      <td>1.0</td>\n",
       "      <td>0.0</td>\n",
       "      <td>0.0</td>\n",
       "      <td>0.0</td>\n",
       "      <td>0.0</td>\n",
       "      <td>0.0</td>\n",
       "      <td>2.0</td>\n",
       "      <td>1.0</td>\n",
       "      <td>37.0</td>\n",
       "      <td>60.0</td>\n",
       "      <td>106.0</td>\n",
       "      <td>126.0</td>\n",
       "      <td>125.0</td>\n",
       "    </tr>\n",
       "    <tr>\n",
       "      <td>February</td>\n",
       "      <td>1.0</td>\n",
       "      <td>0.0</td>\n",
       "      <td>0.0</td>\n",
       "      <td>0.0</td>\n",
       "      <td>1.0</td>\n",
       "      <td>0.0</td>\n",
       "      <td>2.0</td>\n",
       "      <td>2.0</td>\n",
       "      <td>13.0</td>\n",
       "      <td>70.0</td>\n",
       "      <td>66.0</td>\n",
       "      <td>138.0</td>\n",
       "      <td>0.0</td>\n",
       "    </tr>\n",
       "    <tr>\n",
       "      <td>March</td>\n",
       "      <td>0.0</td>\n",
       "      <td>0.0</td>\n",
       "      <td>0.0</td>\n",
       "      <td>0.0</td>\n",
       "      <td>0.0</td>\n",
       "      <td>1.0</td>\n",
       "      <td>0.0</td>\n",
       "      <td>4.0</td>\n",
       "      <td>12.0</td>\n",
       "      <td>113.0</td>\n",
       "      <td>131.0</td>\n",
       "      <td>148.0</td>\n",
       "      <td>0.0</td>\n",
       "    </tr>\n",
       "    <tr>\n",
       "      <td>April</td>\n",
       "      <td>0.0</td>\n",
       "      <td>0.0</td>\n",
       "      <td>0.0</td>\n",
       "      <td>0.0</td>\n",
       "      <td>0.0</td>\n",
       "      <td>0.0</td>\n",
       "      <td>2.0</td>\n",
       "      <td>5.0</td>\n",
       "      <td>18.0</td>\n",
       "      <td>80.0</td>\n",
       "      <td>103.0</td>\n",
       "      <td>136.0</td>\n",
       "      <td>0.0</td>\n",
       "    </tr>\n",
       "    <tr>\n",
       "      <td>May</td>\n",
       "      <td>0.0</td>\n",
       "      <td>0.0</td>\n",
       "      <td>0.0</td>\n",
       "      <td>1.0</td>\n",
       "      <td>0.0</td>\n",
       "      <td>0.0</td>\n",
       "      <td>0.0</td>\n",
       "      <td>7.0</td>\n",
       "      <td>8.0</td>\n",
       "      <td>92.0</td>\n",
       "      <td>73.0</td>\n",
       "      <td>140.0</td>\n",
       "      <td>0.0</td>\n",
       "    </tr>\n",
       "    <tr>\n",
       "      <td>June</td>\n",
       "      <td>0.0</td>\n",
       "      <td>0.0</td>\n",
       "      <td>0.0</td>\n",
       "      <td>0.0</td>\n",
       "      <td>0.0</td>\n",
       "      <td>0.0</td>\n",
       "      <td>0.0</td>\n",
       "      <td>7.0</td>\n",
       "      <td>11.0</td>\n",
       "      <td>71.0</td>\n",
       "      <td>63.0</td>\n",
       "      <td>143.0</td>\n",
       "      <td>0.0</td>\n",
       "    </tr>\n",
       "    <tr>\n",
       "      <td>July</td>\n",
       "      <td>0.0</td>\n",
       "      <td>0.0</td>\n",
       "      <td>0.0</td>\n",
       "      <td>0.0</td>\n",
       "      <td>2.0</td>\n",
       "      <td>0.0</td>\n",
       "      <td>0.0</td>\n",
       "      <td>5.0</td>\n",
       "      <td>24.0</td>\n",
       "      <td>64.0</td>\n",
       "      <td>118.0</td>\n",
       "      <td>124.0</td>\n",
       "      <td>0.0</td>\n",
       "    </tr>\n",
       "    <tr>\n",
       "      <td>August</td>\n",
       "      <td>0.0</td>\n",
       "      <td>0.0</td>\n",
       "      <td>0.0</td>\n",
       "      <td>0.0</td>\n",
       "      <td>1.0</td>\n",
       "      <td>1.0</td>\n",
       "      <td>1.0</td>\n",
       "      <td>2.0</td>\n",
       "      <td>32.0</td>\n",
       "      <td>92.0</td>\n",
       "      <td>114.0</td>\n",
       "      <td>124.0</td>\n",
       "      <td>0.0</td>\n",
       "    </tr>\n",
       "    <tr>\n",
       "      <td>September</td>\n",
       "      <td>0.0</td>\n",
       "      <td>0.0</td>\n",
       "      <td>0.0</td>\n",
       "      <td>1.0</td>\n",
       "      <td>0.0</td>\n",
       "      <td>2.0</td>\n",
       "      <td>1.0</td>\n",
       "      <td>7.0</td>\n",
       "      <td>37.0</td>\n",
       "      <td>90.0</td>\n",
       "      <td>99.0</td>\n",
       "      <td>121.0</td>\n",
       "      <td>0.0</td>\n",
       "    </tr>\n",
       "    <tr>\n",
       "      <td>October</td>\n",
       "      <td>0.0</td>\n",
       "      <td>0.0</td>\n",
       "      <td>0.0</td>\n",
       "      <td>8.0</td>\n",
       "      <td>1.0</td>\n",
       "      <td>1.0</td>\n",
       "      <td>3.0</td>\n",
       "      <td>12.0</td>\n",
       "      <td>39.0</td>\n",
       "      <td>113.0</td>\n",
       "      <td>142.0</td>\n",
       "      <td>166.0</td>\n",
       "      <td>0.0</td>\n",
       "    </tr>\n",
       "    <tr>\n",
       "      <td>November</td>\n",
       "      <td>0.0</td>\n",
       "      <td>1.0</td>\n",
       "      <td>1.0</td>\n",
       "      <td>0.0</td>\n",
       "      <td>0.0</td>\n",
       "      <td>2.0</td>\n",
       "      <td>3.0</td>\n",
       "      <td>4.0</td>\n",
       "      <td>37.0</td>\n",
       "      <td>69.0</td>\n",
       "      <td>136.0</td>\n",
       "      <td>219.0</td>\n",
       "      <td>0.0</td>\n",
       "    </tr>\n",
       "    <tr>\n",
       "      <td>December</td>\n",
       "      <td>0.0</td>\n",
       "      <td>0.0</td>\n",
       "      <td>0.0</td>\n",
       "      <td>0.0</td>\n",
       "      <td>1.0</td>\n",
       "      <td>2.0</td>\n",
       "      <td>5.0</td>\n",
       "      <td>15.0</td>\n",
       "      <td>73.0</td>\n",
       "      <td>96.0</td>\n",
       "      <td>150.0</td>\n",
       "      <td>181.0</td>\n",
       "      <td>0.0</td>\n",
       "    </tr>\n",
       "  </tbody>\n",
       "</table>\n",
       "</div>"
      ],
      "text/plain": [
       "year        2008   2009   2010   2011   2012   2013   2014   2015   2016  \\\n",
       "month                                                                      \n",
       "January      1.0    0.0    0.0    0.0    0.0    0.0    2.0    1.0   37.0   \n",
       "February     1.0    0.0    0.0    0.0    1.0    0.0    2.0    2.0   13.0   \n",
       "March        0.0    0.0    0.0    0.0    0.0    1.0    0.0    4.0   12.0   \n",
       "April        0.0    0.0    0.0    0.0    0.0    0.0    2.0    5.0   18.0   \n",
       "May          0.0    0.0    0.0    1.0    0.0    0.0    0.0    7.0    8.0   \n",
       "June         0.0    0.0    0.0    0.0    0.0    0.0    0.0    7.0   11.0   \n",
       "July         0.0    0.0    0.0    0.0    2.0    0.0    0.0    5.0   24.0   \n",
       "August       0.0    0.0    0.0    0.0    1.0    1.0    1.0    2.0   32.0   \n",
       "September    0.0    0.0    0.0    1.0    0.0    2.0    1.0    7.0   37.0   \n",
       "October      0.0    0.0    0.0    8.0    1.0    1.0    3.0   12.0   39.0   \n",
       "November     0.0    1.0    1.0    0.0    0.0    2.0    3.0    4.0   37.0   \n",
       "December     0.0    0.0    0.0    0.0    1.0    2.0    5.0   15.0   73.0   \n",
       "\n",
       "year        2017   2018   2019   2020  \n",
       "month                                  \n",
       "January     60.0  106.0  126.0  125.0  \n",
       "February    70.0   66.0  138.0    0.0  \n",
       "March      113.0  131.0  148.0    0.0  \n",
       "April       80.0  103.0  136.0    0.0  \n",
       "May         92.0   73.0  140.0    0.0  \n",
       "June        71.0   63.0  143.0    0.0  \n",
       "July        64.0  118.0  124.0    0.0  \n",
       "August      92.0  114.0  124.0    0.0  \n",
       "September   90.0   99.0  121.0    0.0  \n",
       "October    113.0  142.0  166.0    0.0  \n",
       "November    69.0  136.0  219.0    0.0  \n",
       "December    96.0  150.0  181.0    0.0  "
      ]
     },
     "execution_count": 15,
     "metadata": {},
     "output_type": "execute_result"
    }
   ],
   "source": [
    "# Viewing the Dataframe\n",
    "df4.head(12)"
   ]
  },
  {
   "cell_type": "code",
   "execution_count": 16,
   "metadata": {},
   "outputs": [
    {
     "data": {
      "text/plain": [
       "Text(0.5, 1, ' Best Month to Release New Content')"
      ]
     },
     "execution_count": 16,
     "metadata": {},
     "output_type": "execute_result"
    },
    {
     "data": {
      "image/png": "[encoded data removed]",
      "text/plain": [
       "<Figure size 720x720 with 2 Axes>"
      ]
     },
     "metadata": {
      "needs_background": "light"
     },
     "output_type": "display_data"
    }
   ],
   "source": [
    "# Creating a Heat Map Visuilization for the new dataframe created by groupby\n",
    " \n",
    "fig, ax = plt.subplots(figsize=(10 , 10))                                        # Creating figure size and subplots \n",
    "sns.heatmap(df4 , annot=True, linewidths=.5, ax=ax ,annot_kws={\"size\": 12})      # Applying heatmap function for the data and modified the **Kwargs\n",
    "plt.ylabel('Months' , fontsize = 20)                                             # labelling the y-axis             \n",
    "plt.xlabel('years', fontsize = 20)                                               # labelling the X-axis\n",
    "plt.title(' Best Month to Release New Content' , fontsize = 25)                  # labelling the title"
   ]
  },
  {
   "cell_type": "markdown",
   "metadata": {},
   "source": [
    "### In 2020  February, March, April, May, June, July, August, September, October, November,December  are good months to release content\n",
    "### In 2019  January ,  July , August , September are good months to release content"
   ]
  },
  {
   "cell_type": "markdown",
   "metadata": {},
   "source": [
    "## 3. Which tv series has the highest number of seasons?"
   ]
  },
  {
   "cell_type": "code",
   "execution_count": 17,
   "metadata": {},
   "outputs": [
    {
     "name": "stdout",
     "output_type": "stream",
     "text": [
      "                       title  duration\n",
      "936           Grey's Anatomy        15\n",
      "3378                    NCIS        15\n",
      "3732            Supernatural        14\n",
      "4624  COMEDIANS of the world        13\n",
      "741        Trailer Park Boys        12\n"
     ]
    },
    {
     "data": {
      "text/plain": [
       "Text(0.5, 1.0, 'TV Series vs Number of seasons')"
      ]
     },
     "execution_count": 17,
     "metadata": {},
     "output_type": "execute_result"
    },
    {
     "data": {
      "image/png": "[encoded data removed]",
      "text/plain": [
       "<Figure size 432x288 with 1 Axes>"
      ]
     },
     "metadata": {
      "needs_background": "light"
     },
     "output_type": "display_data"
    }
   ],
   "source": [
    "# creating a subset dataframe df5 by usig loc function with  'TV Show' , 'duration' , 'title'\n",
    "df5 =  df3.loc[(df3.type == 'TV Show') & (df3['duration'] ) & (df3['title'] )]\n",
    "\n",
    "# we need the coluumn to be numeric and cleaing the text attached to the integers\n",
    "df5['duration'] = df5['duration'].str.replace('Season' , '')\n",
    "\n",
    "# convering the string into integer using to_numeric function\n",
    "df5['duration'] = pd.to_numeric((df5['duration'].str.replace('s' , '')))\n",
    "\n",
    "# created an array with 2 column feature names\n",
    "columns = ['title' , 'duration']\n",
    "\n",
    "# creating a subset dataframe from columns array\n",
    "df6  = df5[columns]\n",
    "\n",
    "# sorting the datafame by the feature 'duration' in decreasing order \n",
    "df6 = df6.sort_values(['duration'] , ascending = False)\n",
    "\n",
    "# Now the dataframe was once again done subset of 10 observations to meet a nice-lookig barchart\n",
    "df6 = df6[0:10]\n",
    "\n",
    "# Printing the top 5 series with Maximum Seasons\n",
    "print(df6.head(5))\n",
    "\n",
    "# Plotting the data using basic plot function\n",
    "df6.plot(x = 'title' , y = 'duration' , kind = 'bar' , color = 'r')      # Assigning the X and Y values , for the type barchart\n",
    "plt.ylabel('No of Seasons' , fontsize = 20)                              # labelling y-axis for the chart\n",
    "plt.xlabel('TV Series in Netflix', fontsize = 20)                        # labelling x-axis for the chart\n",
    "plt.title('TV Series vs Number of seasons' , fontsize = 22)              # labelling main title for the chart"
   ]
  },
  {
   "cell_type": "markdown",
   "metadata": {},
   "source": [
    "### Grey's Anatomy and NCIS both having highest number of 15 seasons"
   ]
  },
  {
   "cell_type": "markdown",
   "metadata": {},
   "source": [
    "# 4.Top rated movie that has ratings on imdb and is available on netflix? \n",
    "# *Note : Use imdb Ratings dataset, imdb movies dataset and Netflix dataset*\n"
   ]
  },
  {
   "cell_type": "markdown",
   "metadata": {},
   "source": [
    "####  Datasets are already loaded initially and taking only few required paremeters\n",
    "####  4 major features \n",
    "*  Title \n",
    "* Release Year \n",
    "* Rating \n",
    "* Genre"
   ]
  },
  {
   "cell_type": "code",
   "execution_count": 18,
   "metadata": {},
   "outputs": [],
   "source": [
    "# create a subset dataframe consists of the above mentioned features \n",
    "df7 = pd.DataFrame({'Title':df1.title, 'Release Year':df1.year, 'Rating': df2.weighted_average_vote, 'Genre':df1.genre})\n",
    "\n",
    "# Dropping duplicate or replicate values as features are taken from multiple dataframes i.e checking for uniqueness\n",
    "df7.drop_duplicates(subset=['Title','Release Year','Rating' , 'Genre'], inplace=True)"
   ]
  },
  {
   "cell_type": "code",
   "execution_count": 19,
   "metadata": {},
   "outputs": [
    {
     "data": {
      "text/plain": [
       "Title           76\n",
       "Release Year    76\n",
       "Rating           0\n",
       "Genre           76\n",
       "dtype: int64"
      ]
     },
     "execution_count": 19,
     "metadata": {},
     "output_type": "execute_result"
    }
   ],
   "source": [
    "# checking for Null-Values\n",
    "df7.isnull().sum()"
   ]
  },
  {
   "cell_type": "code",
   "execution_count": 20,
   "metadata": {},
   "outputs": [],
   "source": [
    "# Dropping null values \n",
    "df7.dropna(inplace=True)"
   ]
  },
  {
   "cell_type": "code",
   "execution_count": 21,
   "metadata": {},
   "outputs": [
    {
     "data": {
      "text/plain": [
       "Title           0\n",
       "Release Year    0\n",
       "Rating          0\n",
       "Genre           0\n",
       "dtype: int64"
      ]
     },
     "execution_count": 21,
     "metadata": {},
     "output_type": "execute_result"
    }
   ],
   "source": [
    "# checking for Null-Values\n",
    "df7.isnull().sum()"
   ]
  },
  {
   "cell_type": "code",
   "execution_count": 22,
   "metadata": {},
   "outputs": [],
   "source": [
    "#  Mergeing the subset dataframe (df7+df3 = df8) and created another subset dataframe\n",
    "# Merged using inner join on the column 'Title'\n",
    "df8   =  df7.merge(df3, left_on='Title',right_on='title',how='inner')"
   ]
  },
  {
   "cell_type": "code",
   "execution_count": 23,
   "metadata": {},
   "outputs": [
    {
     "data": {
      "text/plain": [
       "1034     Oththa Seruppu Size 7\n",
       "1402          Schindler's List\n",
       "638      Merku Thodarchi Malai\n",
       "236                  Inception\n",
       "102               The Irishman\n",
       "431     Eh Janam Tumhare Lekhe\n",
       "141                    Koshish\n",
       "1077                    Masoom\n",
       "595                      Manto\n",
       "691                     Qismat\n",
       "Name: Title, dtype: object"
      ]
     },
     "execution_count": 23,
     "metadata": {},
     "output_type": "execute_result"
    }
   ],
   "source": [
    "# sorting the dataframe as it is easy to know top rated movie ratings \n",
    "df8    =  df8.sort_values(['Rating'], ascending=False)\n",
    "\n",
    "# once again accessing top ten observations \n",
    "df9 = df8[:10]\n",
    "df9['Title'].head(10)"
   ]
  },
  {
   "cell_type": "code",
   "execution_count": 24,
   "metadata": {},
   "outputs": [
    {
     "data": {
      "image/png": "[encoded data removed]",
      "text/plain": [
       "<Figure size 432x288 with 1 Axes>"
      ]
     },
     "metadata": {
      "needs_background": "light"
     },
     "output_type": "display_data"
    }
   ],
   "source": [
    "# Plotting the Data using 'Barplot-H' \n",
    "\n",
    "sns.barplot(y= 'title' , x = 'Rating' , data = df9 )         # passing the X , Y and Data into the arguments of the Barplot function\n",
    "plt.ylabel('Movie Title' , fontsize = 20)                    # labelling y-axis in the chart\n",
    "plt.xlabel('Movie Rating', fontsize = 20)                    # labelling x-axis in the chart\n",
    "plt.title('Top Rated Movie Ratings' , fontsize = 22 )        # labelling Main-Title in the chart\n",
    "plt.xticks(np.arange(0, 10))                                 # modifying x-ticks from 0-10\n",
    "plt.grid()                                                   # Inserting grid to the chart"
   ]
  },
  {
   "cell_type": "markdown",
   "metadata": {},
   "source": [
    "### Top Rated Movies in Netflix are\n",
    "*     Oththa Seruppu Size 7\n",
    "*          Schindler's List\n",
    "*       Merku Thodarchi Malai\n",
    "*                  Inception\n",
    "*                The Irishman\n",
    "*     Eh Janam Tumhare Lekhe\n",
    "*                     Koshish\n",
    "*                     Masoom\n",
    "*                       Manto\n",
    "*                      Qismat"
   ]
  },
  {
   "cell_type": "markdown",
   "metadata": {},
   "source": [
    "# 5 Name the country that has the second highest rated content?\n",
    "# *Note : Use imdb Ratings dataset, imdb movies dataset and Netflix dataset*"
   ]
  },
  {
   "cell_type": "code",
   "execution_count": 25,
   "metadata": {},
   "outputs": [
    {
     "data": {
      "text/plain": [
       "Text(0.5, 1.0, 'Top Content Creators')"
      ]
     },
     "execution_count": 25,
     "metadata": {},
     "output_type": "execute_result"
    },
    {
     "data": {
      "image/png": "[encoded data removed]",
      "text/plain": [
       "<Figure size 432x288 with 1 Axes>"
      ]
     },
     "metadata": {
      "needs_background": "light"
     },
     "output_type": "display_data"
    }
   ],
   "source": [
    "#  Creating a new subset by country \n",
    "df10 = df8['country'].value_counts().sort_values(ascending  = False)\n",
    "\n",
    "# converting the series into DataFrame\n",
    "df10 = pd.DataFrame(df10)\n",
    "\n",
    "# Accessing the top 10 observations\n",
    "df11 = df10[:10] \n",
    "\n",
    "#Reset the index of the dataframe\n",
    "df11.reset_index(level = 0 , inplace = True)\n",
    "\n",
    "# Plotting the Data using Plot Functon\n",
    "df11.plot(x = 'index' , y = 'country' , kind = 'bar' , color  = 'r')   # passing the X , Y and Data into the arguments of the plot function \n",
    "plt.ylabel('Most content Created' , fontsize = 20)                     # labelling y-axis in the chart\n",
    "plt.xlabel('Content Creator', fontsize = 20)                           # labelling x-axis in the chart            \n",
    "plt.title('Top Content Creators' , fontsize = 22 )                     # labelling Main-Title in the chart"
   ]
  },
  {
   "cell_type": "markdown",
   "metadata": {},
   "source": [
    "### India is the country that has the second highest rated content"
   ]
  },
  {
   "cell_type": "markdown",
   "metadata": {},
   "source": [
    "# 6. Build a content based movie recommender system with natural language processing.\n",
    "# The function should take movie name as input and should return top 3 recommended movies"
   ]
  },
  {
   "cell_type": "code",
   "execution_count": 26,
   "metadata": {},
   "outputs": [],
   "source": [
    "# Reading the Dataframe NETFLIX TITLES\n",
    "df12  = pd.read_csv('./NETFLIX TITLES.csv' )"
   ]
  },
  {
   "cell_type": "code",
   "execution_count": 27,
   "metadata": {},
   "outputs": [
    {
     "data": {
      "text/plain": [
       "show_id            0\n",
       "type               0\n",
       "title              0\n",
       "director        1443\n",
       "cast             439\n",
       "country          349\n",
       "date_added         6\n",
       "release_year       0\n",
       "rating             8\n",
       "duration           0\n",
       "listed_in          0\n",
       "description        0\n",
       "dtype: int64"
      ]
     },
     "execution_count": 27,
     "metadata": {},
     "output_type": "execute_result"
    }
   ],
   "source": [
    "# Checking for null values\n",
    "df12.isnull().sum()"
   ]
  },
  {
   "cell_type": "code",
   "execution_count": 28,
   "metadata": {},
   "outputs": [
    {
     "data": {
      "text/plain": [
       "show_id         0\n",
       "type            0\n",
       "title           0\n",
       "director        0\n",
       "cast            0\n",
       "country         0\n",
       "date_added      0\n",
       "release_year    0\n",
       "rating          0\n",
       "duration        0\n",
       "listed_in       0\n",
       "description     0\n",
       "dtype: int64"
      ]
     },
     "execution_count": 28,
     "metadata": {},
     "output_type": "execute_result"
    }
   ],
   "source": [
    "# filling the null values with strings \n",
    "df12 = df12.fillna(\"\")\n",
    "df12.isnull().sum()"
   ]
  },
  {
   "cell_type": "code",
   "execution_count": 29,
   "metadata": {},
   "outputs": [
    {
     "data": {
      "text/html": [
       "<div>\n",
       "<style scoped>\n",
       "    .dataframe tbody tr th:only-of-type {\n",
       "        vertical-align: middle;\n",
       "    }\n",
       "\n",
       "    .dataframe tbody tr th {\n",
       "        vertical-align: top;\n",
       "    }\n",
       "\n",
       "    .dataframe thead th {\n",
       "        text-align: right;\n",
       "    }\n",
       "</style>\n",
       "<table border=\"1\" class=\"dataframe\">\n",
       "  <thead>\n",
       "    <tr style=\"text-align: right;\">\n",
       "      <th></th>\n",
       "      <th>title</th>\n",
       "      <th>director</th>\n",
       "      <th>cast</th>\n",
       "      <th>description</th>\n",
       "    </tr>\n",
       "  </thead>\n",
       "  <tbody>\n",
       "    <tr>\n",
       "      <td>0</td>\n",
       "      <td>The Mayo Clinic</td>\n",
       "      <td>Ken Burns, Christopher Loren Ewers, Erik Ewers</td>\n",
       "      <td>Peter Coyote</td>\n",
       "      <td>A look at how a world-renowned medical institu...</td>\n",
       "    </tr>\n",
       "    <tr>\n",
       "      <td>1</td>\n",
       "      <td>I Am</td>\n",
       "      <td>Onir</td>\n",
       "      <td>Juhi Chawla, Rahul Bose, Nandita Das, Sanjay S...</td>\n",
       "      <td>Four individuals in modern India grapple with ...</td>\n",
       "    </tr>\n",
       "    <tr>\n",
       "      <td>2</td>\n",
       "      <td>Love Jones</td>\n",
       "      <td>Theodore Witcher</td>\n",
       "      <td>Larenz Tate, Nia Long, Isaiah Washington, Lisa...</td>\n",
       "      <td>In this urban romantic comedy set in Chicago, ...</td>\n",
       "    </tr>\n",
       "    <tr>\n",
       "      <td>3</td>\n",
       "      <td>Ghayal</td>\n",
       "      <td>Rajkumar Santoshi</td>\n",
       "      <td>Sunny Deol, Meenakshi Sheshadri, Amrish Puri, ...</td>\n",
       "      <td>Framed for his older brother's murder, a boxer...</td>\n",
       "    </tr>\n",
       "    <tr>\n",
       "      <td>4</td>\n",
       "      <td>Marriage Story</td>\n",
       "      <td>Noah Baumbach</td>\n",
       "      <td>Scarlett Johansson, Adam Driver, Laura Dern, A...</td>\n",
       "      <td>Academy Award-nominated filmmaker Noah Baumbac...</td>\n",
       "    </tr>\n",
       "  </tbody>\n",
       "</table>\n",
       "</div>"
      ],
      "text/plain": [
       "             title                                        director  \\\n",
       "0  The Mayo Clinic  Ken Burns, Christopher Loren Ewers, Erik Ewers   \n",
       "1             I Am                                            Onir   \n",
       "2       Love Jones                                Theodore Witcher   \n",
       "3           Ghayal                               Rajkumar Santoshi   \n",
       "4   Marriage Story                                   Noah Baumbach   \n",
       "\n",
       "                                                cast  \\\n",
       "0                                       Peter Coyote   \n",
       "1  Juhi Chawla, Rahul Bose, Nandita Das, Sanjay S...   \n",
       "2  Larenz Tate, Nia Long, Isaiah Washington, Lisa...   \n",
       "3  Sunny Deol, Meenakshi Sheshadri, Amrish Puri, ...   \n",
       "4  Scarlett Johansson, Adam Driver, Laura Dern, A...   \n",
       "\n",
       "                                         description  \n",
       "0  A look at how a world-renowned medical institu...  \n",
       "1  Four individuals in modern India grapple with ...  \n",
       "2  In this urban romantic comedy set in Chicago, ...  \n",
       "3  Framed for his older brother's murder, a boxer...  \n",
       "4  Academy Award-nominated filmmaker Noah Baumbac...  "
      ]
     },
     "execution_count": 29,
     "metadata": {},
     "output_type": "execute_result"
    }
   ],
   "source": [
    "# subsetting the 4 useful Columns \n",
    "df13  = df12[['title' ,  'director' , 'cast' , 'description']]\n",
    "df13.head(5)"
   ]
  },
  {
   "cell_type": "code",
   "execution_count": 30,
   "metadata": {},
   "outputs": [],
   "source": [
    "df13['description'] = df13['description'].str.replace('[^\\w\\s]','')"
   ]
  },
  {
   "cell_type": "code",
   "execution_count": 31,
   "metadata": {},
   "outputs": [
    {
     "data": {
      "text/html": [
       "<div>\n",
       "<style scoped>\n",
       "    .dataframe tbody tr th:only-of-type {\n",
       "        vertical-align: middle;\n",
       "    }\n",
       "\n",
       "    .dataframe tbody tr th {\n",
       "        vertical-align: top;\n",
       "    }\n",
       "\n",
       "    .dataframe thead th {\n",
       "        text-align: right;\n",
       "    }\n",
       "</style>\n",
       "<table border=\"1\" class=\"dataframe\">\n",
       "  <thead>\n",
       "    <tr style=\"text-align: right;\">\n",
       "      <th></th>\n",
       "      <th>title</th>\n",
       "      <th>director</th>\n",
       "      <th>cast</th>\n",
       "      <th>description</th>\n",
       "      <th>key_words</th>\n",
       "    </tr>\n",
       "  </thead>\n",
       "  <tbody>\n",
       "    <tr>\n",
       "      <td>0</td>\n",
       "      <td>The Mayo Clinic</td>\n",
       "      <td>Ken Burns, Christopher Loren Ewers, Erik Ewers</td>\n",
       "      <td>Peter Coyote</td>\n",
       "      <td>A look at how a worldrenowned medical institut...</td>\n",
       "      <td>[adapted, look, healthcares, evolving, demands...</td>\n",
       "    </tr>\n",
       "    <tr>\n",
       "      <td>1</td>\n",
       "      <td>I Am</td>\n",
       "      <td>Onir</td>\n",
       "      <td>Juhi Chawla, Rahul Bose, Nandita Das, Sanjay S...</td>\n",
       "      <td>Four individuals in modern India grapple with ...</td>\n",
       "      <td>[modern, india, grapple, identities, amid, soc...</td>\n",
       "    </tr>\n",
       "    <tr>\n",
       "      <td>2</td>\n",
       "      <td>Love Jones</td>\n",
       "      <td>Theodore Witcher</td>\n",
       "      <td>Larenz Tate, Nia Long, Isaiah Washington, Lisa...</td>\n",
       "      <td>In this urban romantic comedy set in Chicago t...</td>\n",
       "      <td>[urban, romantic, comedy, set, courtship, play...</td>\n",
       "    </tr>\n",
       "    <tr>\n",
       "      <td>3</td>\n",
       "      <td>Ghayal</td>\n",
       "      <td>Rajkumar Santoshi</td>\n",
       "      <td>Sunny Deol, Meenakshi Sheshadri, Amrish Puri, ...</td>\n",
       "      <td>Framed for his older brothers murder a boxer s...</td>\n",
       "      <td>[boxer, seeks, violent, revenge, family, apart...</td>\n",
       "    </tr>\n",
       "    <tr>\n",
       "      <td>4</td>\n",
       "      <td>Marriage Story</td>\n",
       "      <td>Noah Baumbach</td>\n",
       "      <td>Scarlett Johansson, Adam Driver, Laura Dern, A...</td>\n",
       "      <td>Academy Awardnominated filmmaker Noah Baumbach...</td>\n",
       "      <td>[family, staying, together, academy, awardnomi...</td>\n",
       "    </tr>\n",
       "  </tbody>\n",
       "</table>\n",
       "</div>"
      ],
      "text/plain": [
       "             title                                        director  \\\n",
       "0  The Mayo Clinic  Ken Burns, Christopher Loren Ewers, Erik Ewers   \n",
       "1             I Am                                            Onir   \n",
       "2       Love Jones                                Theodore Witcher   \n",
       "3           Ghayal                               Rajkumar Santoshi   \n",
       "4   Marriage Story                                   Noah Baumbach   \n",
       "\n",
       "                                                cast  \\\n",
       "0                                       Peter Coyote   \n",
       "1  Juhi Chawla, Rahul Bose, Nandita Das, Sanjay S...   \n",
       "2  Larenz Tate, Nia Long, Isaiah Washington, Lisa...   \n",
       "3  Sunny Deol, Meenakshi Sheshadri, Amrish Puri, ...   \n",
       "4  Scarlett Johansson, Adam Driver, Laura Dern, A...   \n",
       "\n",
       "                                         description  \\\n",
       "0  A look at how a worldrenowned medical institut...   \n",
       "1  Four individuals in modern India grapple with ...   \n",
       "2  In this urban romantic comedy set in Chicago t...   \n",
       "3  Framed for his older brothers murder a boxer s...   \n",
       "4  Academy Awardnominated filmmaker Noah Baumbach...   \n",
       "\n",
       "                                           key_words  \n",
       "0  [adapted, look, healthcares, evolving, demands...  \n",
       "1  [modern, india, grapple, identities, amid, soc...  \n",
       "2  [urban, romantic, comedy, set, courtship, play...  \n",
       "3  [boxer, seeks, violent, revenge, family, apart...  \n",
       "4  [family, staying, together, academy, awardnomi...  "
      ]
     },
     "execution_count": 31,
     "metadata": {},
     "output_type": "execute_result"
    }
   ],
   "source": [
    "# Extract Keywords from the columns\n",
    "\n",
    "df13['key_words']  = \" \"                                         # initilize new columns called Key_words\n",
    "r = Rake()                                                       # use Rake to discard stop words (based on english stopwords from NLTK , Stanford reference)\n",
    "\n",
    "for index , row in df13.iterrows():                             #  looping over index  and rows\n",
    "    r.extract_keywords_from_text(row['description'])            #  extract key words from description of the content \n",
    "    key_words_dict_scores  = r.get_word_degrees()               #  dictionary with key words and their scores\n",
    "    row['key_words']  = list(key_words_dict_scores.keys())      #  assigning list of key words to new column\n",
    "\n",
    "df13.head(5)"
   ]
  },
  {
   "cell_type": "code",
   "execution_count": 32,
   "metadata": {},
   "outputs": [
    {
     "data": {
      "text/html": [
       "<div>\n",
       "<style scoped>\n",
       "    .dataframe tbody tr th:only-of-type {\n",
       "        vertical-align: middle;\n",
       "    }\n",
       "\n",
       "    .dataframe tbody tr th {\n",
       "        vertical-align: top;\n",
       "    }\n",
       "\n",
       "    .dataframe thead th {\n",
       "        text-align: right;\n",
       "    }\n",
       "</style>\n",
       "<table border=\"1\" class=\"dataframe\">\n",
       "  <thead>\n",
       "    <tr style=\"text-align: right;\">\n",
       "      <th></th>\n",
       "      <th>title</th>\n",
       "      <th>director</th>\n",
       "      <th>cast</th>\n",
       "      <th>description</th>\n",
       "      <th>key_words</th>\n",
       "    </tr>\n",
       "  </thead>\n",
       "  <tbody>\n",
       "    <tr>\n",
       "      <td>0</td>\n",
       "      <td>The Mayo Clinic</td>\n",
       "      <td>[kenburns, christopherlorenewers, erikewers]</td>\n",
       "      <td>[petercoyote]</td>\n",
       "      <td>A look at how a worldrenowned medical institut...</td>\n",
       "      <td>[adapted, look, healthcares, evolving, demands...</td>\n",
       "    </tr>\n",
       "    <tr>\n",
       "      <td>1</td>\n",
       "      <td>I Am</td>\n",
       "      <td>[onir]</td>\n",
       "      <td>[juhichawla, rahulbose, nanditadas, sanjaysuri...</td>\n",
       "      <td>Four individuals in modern India grapple with ...</td>\n",
       "      <td>[modern, india, grapple, identities, amid, soc...</td>\n",
       "    </tr>\n",
       "    <tr>\n",
       "      <td>2</td>\n",
       "      <td>Love Jones</td>\n",
       "      <td>[theodorewitcher]</td>\n",
       "      <td>[larenztate, nialong, isaiahwashington, lisani...</td>\n",
       "      <td>In this urban romantic comedy set in Chicago t...</td>\n",
       "      <td>[urban, romantic, comedy, set, courtship, play...</td>\n",
       "    </tr>\n",
       "    <tr>\n",
       "      <td>3</td>\n",
       "      <td>Ghayal</td>\n",
       "      <td>[rajkumarsantoshi]</td>\n",
       "      <td>[sunnydeol, meenakshisheshadri, amrishpuri, mo...</td>\n",
       "      <td>Framed for his older brothers murder a boxer s...</td>\n",
       "      <td>[boxer, seeks, violent, revenge, family, apart...</td>\n",
       "    </tr>\n",
       "    <tr>\n",
       "      <td>4</td>\n",
       "      <td>Marriage Story</td>\n",
       "      <td>[noahbaumbach]</td>\n",
       "      <td>[scarlettjohansson, adamdriver, lauradern, ala...</td>\n",
       "      <td>Academy Awardnominated filmmaker Noah Baumbach...</td>\n",
       "      <td>[family, staying, together, academy, awardnomi...</td>\n",
       "    </tr>\n",
       "  </tbody>\n",
       "</table>\n",
       "</div>"
      ],
      "text/plain": [
       "             title                                      director  \\\n",
       "0  The Mayo Clinic  [kenburns, christopherlorenewers, erikewers]   \n",
       "1             I Am                                        [onir]   \n",
       "2       Love Jones                             [theodorewitcher]   \n",
       "3           Ghayal                            [rajkumarsantoshi]   \n",
       "4   Marriage Story                                [noahbaumbach]   \n",
       "\n",
       "                                                cast  \\\n",
       "0                                      [petercoyote]   \n",
       "1  [juhichawla, rahulbose, nanditadas, sanjaysuri...   \n",
       "2  [larenztate, nialong, isaiahwashington, lisani...   \n",
       "3  [sunnydeol, meenakshisheshadri, amrishpuri, mo...   \n",
       "4  [scarlettjohansson, adamdriver, lauradern, ala...   \n",
       "\n",
       "                                         description  \\\n",
       "0  A look at how a worldrenowned medical institut...   \n",
       "1  Four individuals in modern India grapple with ...   \n",
       "2  In this urban romantic comedy set in Chicago t...   \n",
       "3  Framed for his older brothers murder a boxer s...   \n",
       "4  Academy Awardnominated filmmaker Noah Baumbach...   \n",
       "\n",
       "                                           key_words  \n",
       "0  [adapted, look, healthcares, evolving, demands...  \n",
       "1  [modern, india, grapple, identities, amid, soc...  \n",
       "2  [urban, romantic, comedy, set, courtship, play...  \n",
       "3  [boxer, seeks, violent, revenge, family, apart...  \n",
       "4  [family, staying, together, academy, awardnomi...  "
      ]
     },
     "execution_count": 32,
     "metadata": {},
     "output_type": "execute_result"
    }
   ],
   "source": [
    "# Extract the words from the director columnn into a list\n",
    "\n",
    "df13['director']  = df13['director'].map(lambda x: x.split(','))\n",
    "\n",
    "# Extract the crew names from the cast columnn into a list\n",
    "df13['cast']      = df13['cast'].map(lambda x: x.split(','))\n",
    "\n",
    "for index, row in df13.iterrows():                                                # Looping over the index and rows \n",
    "    row['director'] = [x.lower().replace(' ','') for x in row['director']]        # convert to lowercase\n",
    "    row['cast']     = [x.lower().replace(' ','') for x in row['cast']]            # convert to lowercase\n",
    "\n",
    "    \n",
    "df13.head(5)"
   ]
  },
  {
   "cell_type": "code",
   "execution_count": 33,
   "metadata": {},
   "outputs": [
    {
     "data": {
      "text/html": [
       "<div>\n",
       "<style scoped>\n",
       "    .dataframe tbody tr th:only-of-type {\n",
       "        vertical-align: middle;\n",
       "    }\n",
       "\n",
       "    .dataframe tbody tr th {\n",
       "        vertical-align: top;\n",
       "    }\n",
       "\n",
       "    .dataframe thead th {\n",
       "        text-align: right;\n",
       "    }\n",
       "</style>\n",
       "<table border=\"1\" class=\"dataframe\">\n",
       "  <thead>\n",
       "    <tr style=\"text-align: right;\">\n",
       "      <th></th>\n",
       "      <th>title</th>\n",
       "      <th>bag of words</th>\n",
       "    </tr>\n",
       "  </thead>\n",
       "  <tbody>\n",
       "    <tr>\n",
       "      <td>0</td>\n",
       "      <td>The Mayo Clinic</td>\n",
       "      <td>kenburns christopherlorenewers erikewers peter...</td>\n",
       "    </tr>\n",
       "    <tr>\n",
       "      <td>1</td>\n",
       "      <td>I Am</td>\n",
       "      <td>onir juhichawla rahulbose nanditadas sanjaysur...</td>\n",
       "    </tr>\n",
       "    <tr>\n",
       "      <td>2</td>\n",
       "      <td>Love Jones</td>\n",
       "      <td>theodorewitcher larenztate nialong isaiahwashi...</td>\n",
       "    </tr>\n",
       "    <tr>\n",
       "      <td>3</td>\n",
       "      <td>Ghayal</td>\n",
       "      <td>rajkumarsantoshi sunnydeol meenakshisheshadri ...</td>\n",
       "    </tr>\n",
       "    <tr>\n",
       "      <td>4</td>\n",
       "      <td>Marriage Story</td>\n",
       "      <td>noahbaumbach scarlettjohansson adamdriver laur...</td>\n",
       "    </tr>\n",
       "  </tbody>\n",
       "</table>\n",
       "</div>"
      ],
      "text/plain": [
       "             title                                       bag of words\n",
       "0  The Mayo Clinic  kenburns christopherlorenewers erikewers peter...\n",
       "1             I Am  onir juhichawla rahulbose nanditadas sanjaysur...\n",
       "2       Love Jones  theodorewitcher larenztate nialong isaiahwashi...\n",
       "3           Ghayal  rajkumarsantoshi sunnydeol meenakshisheshadri ...\n",
       "4   Marriage Story  noahbaumbach scarlettjohansson adamdriver laur..."
      ]
     },
     "execution_count": 33,
     "metadata": {},
     "output_type": "execute_result"
    }
   ],
   "source": [
    "# combining column attributes to Bag_of_words\n",
    "\n",
    "df13['bag of words'] = \"\"                                         # initilizing new column called Bag of words\n",
    "columns  = [ 'director' , 'cast'  , 'key_words']                  # considering major columns\n",
    "\n",
    "for index, row in df13.iterrows():                                # Looping over index and rows\n",
    "    words = ''                                                    # words as string type\n",
    "    for col in columns:                            \n",
    "        words += ' '.join(row[col]) + ' '                         # adding column attributes \n",
    "    row['bag of words'] = words                                   # storing in columns\n",
    "    \n",
    "df14 = df13[['title','bag of words']]                             # creating DataFrame with Title and consolidated Attributes i.e bag of words\n",
    "df14.head(5)"
   ]
  },
  {
   "cell_type": "code",
   "execution_count": 34,
   "metadata": {},
   "outputs": [],
   "source": [
    "# create vector representation for Bag_of_words\n",
    "count = CountVectorizer()\n",
    "count_matrix = count.fit_transform(df14['bag of words'])"
   ]
  },
  {
   "cell_type": "code",
   "execution_count": 35,
   "metadata": {},
   "outputs": [
    {
     "data": {
      "text/plain": [
       "array([[1.        , 0.        , 0.        , ..., 0.        , 0.        ,\n",
       "        0.        ],\n",
       "       [0.        , 1.        , 0.        , ..., 0.        , 0.        ,\n",
       "        0.        ],\n",
       "       [0.        , 0.        , 1.        , ..., 0.        , 0.04082483,\n",
       "        0.        ],\n",
       "       ...,\n",
       "       [0.        , 0.        , 0.        , ..., 1.        , 0.        ,\n",
       "        0.        ],\n",
       "       [0.        , 0.        , 0.04082483, ..., 0.        , 1.        ,\n",
       "        0.        ],\n",
       "       [0.        , 0.        , 0.        , ..., 0.        , 0.        ,\n",
       "        1.        ]])"
      ]
     },
     "execution_count": 35,
     "metadata": {},
     "output_type": "execute_result"
    }
   ],
   "source": [
    "#  generate the cosine similarity matrix \n",
    "# rows represent all movies; columns represent all movies\n",
    "# cosine similarity: similarity = cos(angle) = range from 0 (different) to 1 (similar)\n",
    "# all the numbers on the diagonal are 1 because every movie is identical to itself (cosine value is 1 means exactly identical)\n",
    "# matrix is also symmetrical because the similarity between A and B is the same as the similarity between B and A.\n",
    "\n",
    "cosine_sim = cosine_similarity(count_matrix, count_matrix)\n",
    "cosine_sim"
   ]
  },
  {
   "cell_type": "code",
   "execution_count": 36,
   "metadata": {},
   "outputs": [],
   "source": [
    "# create a Series for movie titles which can be used as indices\n",
    "indices = pd.Series(df14['title'])"
   ]
  },
  {
   "cell_type": "code",
   "execution_count": 37,
   "metadata": {},
   "outputs": [],
   "source": [
    "# Recommendations function\n",
    "\n",
    "def recommend(title , cosine_sim = cosine_sim):                            # creating recommend function with arguments\n",
    "    recommend_movies = []                                                  # creating an Empty array\n",
    "    idx = indices[indices == title].index[0]                               # Matching index with title\n",
    "    ss  = pd.Series(cosine_sim[idx]).sort_values(ascending  = False)       # finding similarity score and sorting in ascending order\n",
    "    max_indices = list(ss.iloc[1:4].index)                                 # three Recommendations are captured \n",
    "    \n",
    "    for i in max_indices:                                                  # Looping over Indices to append  \n",
    "        recommend_movies.append(list(df14['title'])[i])                    # capture recommendations are added into created array \n",
    "    return recommend_movies                                                # returns three recommendations"
   ]
  },
  {
   "cell_type": "code",
   "execution_count": 38,
   "metadata": {},
   "outputs": [
    {
     "name": "stdout",
     "output_type": "stream",
     "text": [
      "['The Bleeding Edge', 'Westside vs. the World', 'End Game']\n",
      "['The Bomb Squad', 'Making a Murderer', 'The Rebound']\n",
      "['The House That Made Me', 'Bollywood Calling', 'Aitraaz']\n"
     ]
    }
   ],
   "source": [
    "# using the recommend function and based on similarity these are the movies the model is recommedning\n",
    "\n",
    "print(recommend('The Mayo Clinic'))\n",
    "print(recommend('The Force'))\n",
    "print(recommend('Sanju'))"
   ]
  },
  {
   "cell_type": "code",
   "execution_count": null,
   "metadata": {},
   "outputs": [],
   "source": []
  }
 ],
 "metadata": {
  "kernelspec": {
   "display_name": "Python 3",
   "language": "python",
   "name": "python3"
  },
  "language_info": {
   "codemirror_mode": {
    "name": "ipython",
    "version": 3
   },
   "file_extension": ".py",
   "mimetype": "text/x-python",
   "name": "python",
   "nbconvert_exporter": "python",
   "pygments_lexer": "ipython3",
   "version": "3.7.4"
  }
 },
 "nbformat": 4,
 "nbformat_minor": 4
}
